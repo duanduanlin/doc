{
 "cells": [
  {
   "cell_type": "markdown",
   "metadata": {},
   "source": [
    "# python基础\n",
    "- 开发环境:Anaconda+pycharm\n",
    "\n",
    "## 注释\n",
    "- 行注释：#\n",
    "- 块注释：'''...'''\n"
   ]
  },
  {
   "cell_type": "code",
   "execution_count": 14,
   "metadata": {},
   "outputs": [
    {
     "name": "stdout",
     "output_type": "stream",
     "text": [
      "hello world\n",
      "hello\n"
     ]
    }
   ],
   "source": [
    "#这是一个行注释\n",
    "print('hello world') #这是另一个行注释\n",
    "'''\n",
    "这是一个块注释，\n",
    "'''\n",
    "\n",
    "print('hello')\n"
   ]
  },
  {
   "cell_type": "markdown",
   "metadata": {},
   "source": [
    "## 变量\n",
    "- 命名规则：\n",
    "    - 可以包含数字，字母，下划线\n",
    "    - 且数字不可开头\n",
    "    - 且一般下划线开头有特殊含义\n",
    "    - 大小写敏感\n",
    "    \n",
    "- 推荐：类的命名推荐使用大驼峰，变量推荐小驼峰或posix写法\n",
    "    - 大驼峰：ThisIsAName\n",
    "    - 小驼峰：thisIsAName\n",
    "    - posix:this_is_a_name  \n",
    "    \n",
    "- 关键字和保留字\n",
    "    - class,def,break,for..."
   ]
  },
  {
   "cell_type": "code",
   "execution_count": 15,
   "metadata": {},
   "outputs": [
    {
     "name": "stdout",
     "output_type": "stream",
     "text": [
      "['False', 'None', 'True', 'and', 'as', 'assert', 'async', 'await', 'break', 'class', 'continue', 'def', 'del', 'elif', 'else', 'except', 'finally', 'for', 'from', 'global', 'if', 'import', 'in', 'is', 'lambda', 'nonlocal', 'not', 'or', 'pass', 'raise', 'return', 'try', 'while', 'with', 'yield']\n"
     ]
    }
   ],
   "source": [
    "#查看关键字的方法\n",
    "import keyword #引入关键字模块\n",
    "#打印系统关键字和保留字\n",
    "print(keyword.kwlist)"
   ]
  },
  {
   "cell_type": "markdown",
   "metadata": {},
   "source": [
    "### 变量的声明\n",
    "- var_name = var_value\n",
    "- var1 = var2 = var3 = var_value\n",
    "- var1,var2,var3 = v1,v2,v3"
   ]
  },
  {
   "cell_type": "code",
   "execution_count": 16,
   "metadata": {},
   "outputs": [
    {
     "name": "stdout",
     "output_type": "stream",
     "text": [
      "18\n",
      "18 18 18\n",
      "18 19 17\n"
     ]
    }
   ],
   "source": [
    "#定义变量age，并把18放入变量\n",
    "age = 18\n",
    "print(age)\n",
    "\n",
    "#给age1,age2,age3赋同一值\n",
    "age1 = age2 = age3 = 18\n",
    "print(age1,age2,age3)\n",
    "\n",
    "#给age1,age2,age3分别赋值\n",
    "age1,age2,age3 = 18,19,17\n",
    "print(age1,age2,age3)"
   ]
  },
  {
   "cell_type": "markdown",
   "metadata": {},
   "source": [
    "### 变量类型\n",
    "- 所有类型都是object子类\n",
    "- 标准六种\n",
    "    - 数字\n",
    "    - 字符串\n",
    "    - 列表\n",
    "    - 元组\n",
    "    - 字典\n",
    "    - 集合"
   ]
  },
  {
   "cell_type": "markdown",
   "metadata": {},
   "source": [
    "### Number数字类型\n",
    "- 数字类型没有大小限制\n",
    "\n",
    "#### 整数\n",
    "- 进制\n",
    "    - 二进制\n",
    "        - 0b开头，0b10010\n",
    "    - 八进制\n",
    "        - 0o开头，0o10\n",
    "    - 十进制\n",
    "        - 18,89\n",
    "    - 十六进制\n",
    "        - 0x开头,0xff"
   ]
  },
  {
   "cell_type": "code",
   "execution_count": 17,
   "metadata": {},
   "outputs": [
    {
     "name": "stdout",
     "output_type": "stream",
     "text": [
      "18\n",
      "18\n",
      "18\n",
      "18\n"
     ]
    }
   ],
   "source": [
    "#十进制表示\n",
    "age = 18\n",
    "print(age)\n",
    "#二进制表示\n",
    "age = 0b10010\n",
    "print(age)\n",
    "#八进制表示\n",
    "age = 0o22\n",
    "print(age)\n",
    "#十六进制表示\n",
    "age = 0x12\n",
    "print(age)"
   ]
  },
  {
   "cell_type": "markdown",
   "metadata": {},
   "source": [
    "#### 浮点数\n",
    "- 3.14\n",
    "- 3.\n",
    "- 0.5\n",
    "- .5\n",
    "- 科学计数法\n",
    "    - 177.68 == 1.7768E2\n",
    "    - 0.68 = 6.8E-1"
   ]
  },
  {
   "cell_type": "code",
   "execution_count": 19,
   "metadata": {},
   "outputs": [
    {
     "name": "stdout",
     "output_type": "stream",
     "text": [
      "177.78\n"
     ]
    }
   ],
   "source": [
    "height = 177.78\n",
    "print(height)"
   ]
  },
  {
   "cell_type": "markdown",
   "metadata": {},
   "source": [
    "#### 复数\n",
    "- complex = x + y*j\n",
    "- 5 + 3j"
   ]
  },
  {
   "cell_type": "markdown",
   "metadata": {},
   "source": [
    "#### 布尔值\n",
    "- 只有两个值 True/False\n",
    "- 是int的子类，可以当做数字操作"
   ]
  },
  {
   "cell_type": "code",
   "execution_count": 20,
   "metadata": {},
   "outputs": [
    {
     "name": "stdout",
     "output_type": "stream",
     "text": [
      "19\n"
     ]
    }
   ],
   "source": [
    "age = 18 + True\n",
    "print(age)"
   ]
  },
  {
   "cell_type": "markdown",
   "metadata": {},
   "source": [
    "### 字符串\n",
    "#### 表示方法\n",
    "- 单引号\n",
    "- 双引号\n",
    "- 三引号\n",
    "- 单双引号交错使用"
   ]
  },
  {
   "cell_type": "code",
   "execution_count": 23,
   "metadata": {},
   "outputs": [
    {
     "name": "stdout",
     "output_type": "stream",
     "text": [
      "<a style=\"color:red\">hello world</a>\n",
      "\n",
      "i love zhumengmeng\n",
      "我爱祝梦梦\n",
      "\n",
      "i love zhumengmeng\n"
     ]
    }
   ],
   "source": [
    "#单双引号交替\n",
    "html = '<a style=\"color:red\">hello world</a>'\n",
    "print(html)\n",
    "\n",
    "#三引号可以表示多行\n",
    "htmls = \"\"\"\n",
    "i love zhumengmeng\n",
    "我爱祝梦梦\n",
    "\"\"\"\n",
    "print(htmls)\n",
    "\n",
    "#或者\\转义多行\n",
    "htmlss = 'i love \\\n",
    "zhumengmeng'\n",
    "print(htmlss)"
   ]
  },
  {
   "cell_type": "markdown",
   "metadata": {},
   "source": [
    "#### 操作\n",
    "- 转义字符\n",
    "- 格式化\n",
    "- 内建函数"
   ]
  },
  {
   "cell_type": "markdown",
   "metadata": {},
   "source": [
    "### None\n"
   ]
  },
  {
   "cell_type": "markdown",
   "metadata": {},
   "source": [
    "## 表达式\n",
    "## 运算符\n",
    "- 算数运算符\n",
    "- 比较或关系运算符\n",
    "- 赋值运算符\n",
    "- 位运算\n",
    "- 成员运算符\n",
    "- 身份运算符\n",
    "- 逻辑运算符"
   ]
  },
  {
   "cell_type": "markdown",
   "metadata": {},
   "source": [
    "### 算数运算符\n",
    "+，-，*,/ "
   ]
  },
  {
   "cell_type": "markdown",
   "metadata": {},
   "source": [
    "## 控制语句\n",
    "- 顺序语句\n",
    "- 分支语句\n",
    "    - if  \n",
    "    - if ... else ...\n",
    "    - if ... elif ... else ...\n",
    "- 循环语句\n",
    "    - for ...\n",
    "    - for else\n",
    "    - while\n"
   ]
  },
  {
   "cell_type": "markdown",
   "metadata": {},
   "source": [
    "### 语法+语义\n",
    "- 语法：符号加规则               "
   ]
  },
  {
   "cell_type": "markdown",
   "metadata": {},
   "source": [
    "## 函数\n",
    "### 函数定义\n",
    "### 函数参数与返回值\n",
    "- 普通参数\n",
    "- 默认参数\n",
    "- 关键字参数\n",
    "- 收集参数 "
   ]
  }
 ],
 "metadata": {
  "kernelspec": {
   "display_name": "Python 3",
   "language": "python",
   "name": "python3"
  },
  "language_info": {
   "codemirror_mode": {
    "name": "ipython",
    "version": 3
   },
   "file_extension": ".py",
   "mimetype": "text/x-python",
   "name": "python",
   "nbconvert_exporter": "python",
   "pygments_lexer": "ipython3",
   "version": "3.7.0"
  }
 },
 "nbformat": 4,
 "nbformat_minor": 2
}
