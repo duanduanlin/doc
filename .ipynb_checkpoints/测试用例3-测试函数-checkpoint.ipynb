{
 "cells": [
  {
   "cell_type": "markdown",
   "metadata": {},
   "source": [
    "# 测试用例3-测试函数\n",
    "- 函数定义\n",
    "- 函数调用\n",
    "- 函数参数与返回值\n",
    "\n",
    "## 函数定义\n",
    "- def 函数名：...语句"
   ]
  },
  {
   "cell_type": "code",
   "execution_count": 1,
   "metadata": {},
   "outputs": [
    {
     "name": "stdout",
     "output_type": "stream",
     "text": [
      "<class 'function'>\n"
     ]
    }
   ],
   "source": [
    "#定义一个函数,啥也不做\n",
    "def first_func():\n",
    "    pass\n",
    "\n",
    "#调用\n",
    "print(type(first_func))\n",
    "first_func()"
   ]
  },
  {
   "cell_type": "markdown",
   "metadata": {},
   "source": [
    "当然一般函数定义是用来做点什么的，比如："
   ]
  },
  {
   "cell_type": "code",
   "execution_count": 2,
   "metadata": {},
   "outputs": [
    {
     "name": "stdout",
     "output_type": "stream",
     "text": [
      "12\n",
      "12\n"
     ]
    }
   ],
   "source": [
    "#定义abs函数\n",
    "def my_abs(a):\n",
    "    if a > 0:\n",
    "        return a\n",
    "    else:\n",
    "        return -a\n",
    "\n",
    "#调用\n",
    "print(my_abs(12))\n",
    "print(my_abs(-12))"
   ]
  },
  {
   "cell_type": "markdown",
   "metadata": {},
   "source": [
    "另外一般情况下函数要对传入的参数做检查，以免引起异常，比如："
   ]
  },
  {
   "cell_type": "code",
   "execution_count": 3,
   "metadata": {},
   "outputs": [
    {
     "ename": "TypeError",
     "evalue": "'>' not supported between instances of 'str' and 'int'",
     "output_type": "error",
     "traceback": [
      "\u001b[1;31m---------------------------------------------------------------------------\u001b[0m",
      "\u001b[1;31mTypeError\u001b[0m                                 Traceback (most recent call last)",
      "\u001b[1;32m<ipython-input-3-f863fa5d1a7f>\u001b[0m in \u001b[0;36m<module>\u001b[1;34m()\u001b[0m\n\u001b[1;32m----> 1\u001b[1;33m \u001b[0mprint\u001b[0m\u001b[1;33m(\u001b[0m\u001b[0mmy_abs\u001b[0m\u001b[1;33m(\u001b[0m\u001b[1;34m'a'\u001b[0m\u001b[1;33m)\u001b[0m\u001b[1;33m)\u001b[0m\u001b[1;33m\u001b[0m\u001b[0m\n\u001b[0m",
      "\u001b[1;32m<ipython-input-2-d3036b5862d5>\u001b[0m in \u001b[0;36mmy_abs\u001b[1;34m(a)\u001b[0m\n\u001b[0;32m      1\u001b[0m \u001b[1;31m#定义abs函数\u001b[0m\u001b[1;33m\u001b[0m\u001b[1;33m\u001b[0m\u001b[0m\n\u001b[0;32m      2\u001b[0m \u001b[1;32mdef\u001b[0m \u001b[0mmy_abs\u001b[0m\u001b[1;33m(\u001b[0m\u001b[0ma\u001b[0m\u001b[1;33m)\u001b[0m\u001b[1;33m:\u001b[0m\u001b[1;33m\u001b[0m\u001b[0m\n\u001b[1;32m----> 3\u001b[1;33m     \u001b[1;32mif\u001b[0m \u001b[0ma\u001b[0m \u001b[1;33m>\u001b[0m \u001b[1;36m0\u001b[0m\u001b[1;33m:\u001b[0m\u001b[1;33m\u001b[0m\u001b[0m\n\u001b[0m\u001b[0;32m      4\u001b[0m         \u001b[1;32mreturn\u001b[0m \u001b[0ma\u001b[0m\u001b[1;33m\u001b[0m\u001b[0m\n\u001b[0;32m      5\u001b[0m     \u001b[1;32melse\u001b[0m\u001b[1;33m:\u001b[0m\u001b[1;33m\u001b[0m\u001b[0m\n",
      "\u001b[1;31mTypeError\u001b[0m: '>' not supported between instances of 'str' and 'int'"
     ]
    }
   ],
   "source": [
    "#参数类型不对引起的异常\n",
    "print(my_abs('a'))"
   ]
  },
  {
   "cell_type": "markdown",
   "metadata": {},
   "source": [
    "这时就要对参数进行限制"
   ]
  },
  {
   "cell_type": "code",
   "execution_count": 6,
   "metadata": {},
   "outputs": [
    {
     "name": "stdout",
     "output_type": "stream",
     "text": [
      "invalid param a\n",
      "None\n"
     ]
    }
   ],
   "source": [
    "#改进版my_abs\n",
    "def my_abs(a):\n",
    "    if not isinstance(a,(int,float)):\n",
    "        print(\"invalid param a\")\n",
    "        return None\n",
    "    if a > 0:\n",
    "        return a\n",
    "    else:\n",
    "        return -a\n",
    "\n",
    "print(my_abs('a'))"
   ]
  },
  {
   "cell_type": "markdown",
   "metadata": {},
   "source": [
    "## 函数参数\n",
    "- 位置参数，函数调用时必须传入，且必须按确定顺序传入的参数\n",
    "- 默认参数，调用时可以不传的参数\n",
    "- 可变参数，调用时传入参数个数不确定的参数，通过接受一个参数元组实现\n",
    "- 关键字参数，调用时直接传入任意数量自带变量名的参数，以字典形式传入\n",
    "- 命名关键字参数，限制了变量名的关键字参数\n",
    "- 组合参数，包含以上任意几种参数的组合，规则：必选参数，默认参数，可变参数，命名关键字，关键字参数"
   ]
  },
  {
   "cell_type": "markdown",
   "metadata": {},
   "source": [
    "### 位置参数"
   ]
  },
  {
   "cell_type": "code",
   "execution_count": 7,
   "metadata": {},
   "outputs": [
    {
     "name": "stdout",
     "output_type": "stream",
     "text": [
      "100\n",
      "400\n"
     ]
    }
   ],
   "source": [
    "#定义一个整数平方函数\n",
    "def my_squre(a):\n",
    "    if not isinstance(a,int):\n",
    "        print(\"invalid param a\")\n",
    "        return None\n",
    "    return a*a\n",
    "\n",
    "print(my_squre(10))\n",
    "print(my_squre(-20))"
   ]
  },
  {
   "cell_type": "markdown",
   "metadata": {},
   "source": [
    "上面函数包含一个位置参数，或叫必选参数，也就是调用时必须传入参数"
   ]
  },
  {
   "cell_type": "code",
   "execution_count": 8,
   "metadata": {},
   "outputs": [
    {
     "ename": "TypeError",
     "evalue": "my_squre() missing 1 required positional argument: 'a'",
     "output_type": "error",
     "traceback": [
      "\u001b[1;31m---------------------------------------------------------------------------\u001b[0m",
      "\u001b[1;31mTypeError\u001b[0m                                 Traceback (most recent call last)",
      "\u001b[1;32m<ipython-input-8-06d1fde42183>\u001b[0m in \u001b[0;36m<module>\u001b[1;34m()\u001b[0m\n\u001b[0;32m      1\u001b[0m \u001b[1;31m#位置参数必须传入\u001b[0m\u001b[1;33m\u001b[0m\u001b[1;33m\u001b[0m\u001b[0m\n\u001b[1;32m----> 2\u001b[1;33m \u001b[0mmy_squre\u001b[0m\u001b[1;33m(\u001b[0m\u001b[1;33m)\u001b[0m\u001b[1;33m\u001b[0m\u001b[0m\n\u001b[0m",
      "\u001b[1;31mTypeError\u001b[0m: my_squre() missing 1 required positional argument: 'a'"
     ]
    }
   ],
   "source": [
    "#位置参数必须传入\n",
    "my_squre()"
   ]
  },
  {
   "cell_type": "markdown",
   "metadata": {},
   "source": [
    "位置参数除了必须传入外，还必须按特定顺序传入，否则轻则无法实现预期功能，重则引起异常"
   ]
  },
  {
   "cell_type": "code",
   "execution_count": 15,
   "metadata": {},
   "outputs": [
    {
     "name": "stdout",
     "output_type": "stream",
     "text": [
      "9\n",
      "1\n",
      "27\n",
      "-8\n",
      "0\n",
      "9\n",
      "8\n"
     ]
    }
   ],
   "source": [
    "#定义一个整数正指数运算\n",
    "def my_power(a,b):\n",
    "    if not isinstance(a,int) or not isinstance(b,int) or b < 0:\n",
    "        print(\"invalid param a\")\n",
    "        return None\n",
    "    if b == 0:\n",
    "        return 1\n",
    "    elif a == 0:\n",
    "        return 0\n",
    "    s = 1\n",
    "    while b > 0:\n",
    "        s *= a\n",
    "        b -= 1\n",
    "    return s\n",
    "\n",
    "print(my_power(3,2))\n",
    "print(my_power(3,0))\n",
    "print(my_power(3,3))\n",
    "print(my_power(-2,3))\n",
    "print(my_power(0,3))\n",
    "\n",
    "a = 3\n",
    "b = 2\n",
    "print(my_power(a,b))\n",
    "print(my_power(b,a))"
   ]
  },
  {
   "cell_type": "markdown",
   "metadata": {},
   "source": [
    "### 默认参数\n",
    "- 函数调用时，一些参数的值大多数时候是不用改变的，或者是非必须的，这时候就可以使用默认参数"
   ]
  },
  {
   "cell_type": "code",
   "execution_count": 19,
   "metadata": {},
   "outputs": [
    {
     "name": "stdout",
     "output_type": "stream",
     "text": [
      "name:ddl, age:23, sex:nan, city:shenzhen, job:None\n",
      "name:ddl, age:23, sex:nan, city:beijing, job:None\n",
      "name:ddl, age:23, sex:nan, city:beijing, job:engeneer\n",
      "name:ddl, age:23, sex:nan, city:shenzhen, job:engeneer\n"
     ]
    }
   ],
   "source": [
    "#打印个人信息的函数，居住地和工作可能是不太重要的信息，可传可不传\n",
    "def person_info(name,age,sex,city=\"shenzhen\",job=None):\n",
    "    print(\"name:{0}, age:{1}, sex:{2}, city:{3}, job:{4}\".format(name,age,sex,city,job))\n",
    "    \n",
    "person_info('ddl',23,'nan')\n",
    "person_info('ddl',23,'nan','beijing')\n",
    "person_info('ddl',23,'nan','beijing','engeneer')\n"
   ]
  },
  {
   "cell_type": "markdown",
   "metadata": {},
   "source": [
    "上面实例1中，除了必选参数，其他所有都忽略，则调用时会使用默认值。实例2和实例3，分别传入一个和两个默认参数，注意默认参数，传入时如果是像必选参数那样传入，则必须注意参数顺序"
   ]
  },
  {
   "cell_type": "code",
   "execution_count": 20,
   "metadata": {},
   "outputs": [
    {
     "name": "stdout",
     "output_type": "stream",
     "text": [
      "name:ddl, age:23, sex:nan, city:engeneer, job:None\n"
     ]
    }
   ],
   "source": [
    "#默认参数传入要注意参数顺序\n",
    "person_info('ddl',23,'nan','engeneer')"
   ]
  },
  {
   "cell_type": "markdown",
   "metadata": {},
   "source": [
    "上面这个例子，就是没有注意默认参数的顺序，这时可以使用默认参数传入的第二种方法，通过指定参数名传入,使用起来比较灵活，不用考虑参数顺序"
   ]
  },
  {
   "cell_type": "code",
   "execution_count": 50,
   "metadata": {},
   "outputs": [
    {
     "name": "stdout",
     "output_type": "stream",
     "text": [
      "name:ddl, age:23, sex:nan, city:None, job:engeneer\n",
      "name:ddl, age:23, sex:nan, city:beijing, job:engeneer\n"
     ]
    }
   ],
   "source": [
    "#指定要传入的默认参数\n",
    "person_info('ddl',23,'nan',job='engeneer')\n",
    "person_info('ddl',23,'nan',job='engeneer',city=\"beijing\")"
   ]
  },
  {
   "cell_type": "markdown",
   "metadata": {},
   "source": [
    "注意：默认参数必须使用不可变对象，因为默认参数是在函数定义的时候赋值，如果使用可变参数的话，下次函数调用可能就变了"
   ]
  },
  {
   "cell_type": "markdown",
   "metadata": {},
   "source": [
    "### 可变参数\n",
    "- 有时候可能函数在调用的时候，不太确定会有几个参数，这时一种方法是传入一个序列，另一种方法就是使用可变参数"
   ]
  },
  {
   "cell_type": "code",
   "execution_count": 40,
   "metadata": {},
   "outputs": [
    {
     "name": "stdout",
     "output_type": "stream",
     "text": [
      "15\n",
      "6\n",
      "invalid param a\n",
      "None\n",
      "invalid value:ddl\n",
      "None\n"
     ]
    }
   ],
   "source": [
    "#一些数的求和,通过传入序列实现\n",
    "def my_sum(a):\n",
    "    if not isinstance(a,(list,tuple)):\n",
    "        print(\"invalid param a\")\n",
    "        return None\n",
    "    s = 0\n",
    "    for i in a:\n",
    "        if not isinstance(i,(int,float)):\n",
    "            print(\"invalid value:{0}\".format(i))\n",
    "            return None\n",
    "        s += i\n",
    "    return s\n",
    "\n",
    "print(my_sum([1,2,3,4,5]))\n",
    "print(my_sum((1,2,3)))\n",
    "print(my_sum(2))\n",
    "print(my_sum([1,2,'ddl']))"
   ]
  },
  {
   "cell_type": "code",
   "execution_count": 44,
   "metadata": {},
   "outputs": [
    {
     "name": "stdout",
     "output_type": "stream",
     "text": [
      "15\n",
      "6\n",
      "invalid value:ddl\n",
      "None\n"
     ]
    }
   ],
   "source": [
    "#使用可变参数实现求和\n",
    "def my_sum(*number):\n",
    "    s = 0\n",
    "    for i in number:\n",
    "        if not isinstance(i,(int,float)):\n",
    "            print(\"invalid value:{0}\".format(i))\n",
    "            return None\n",
    "        s += i\n",
    "    return s\n",
    "print(my_sum(1,2,3,4,5))\n",
    "print(my_sum(1,2,3))\n",
    "print(my_sum(1,2,'ddl'))"
   ]
  },
  {
   "cell_type": "markdown",
   "metadata": {},
   "source": [
    "### 关键字参数\n",
    "- 对于一些可选参数，除了使用默认参数外，也可使用关键字参数。使用关键字参数，可以传入任意数量的参数，并自动组装成字典传入。"
   ]
  },
  {
   "cell_type": "code",
   "execution_count": 48,
   "metadata": {},
   "outputs": [
    {
     "name": "stdout",
     "output_type": "stream",
     "text": [
      "name:ddl, age:23, sex:nan, city:None, job:None\n",
      "name:ddl, age:23, sex:nan, city:beijing, job:None\n",
      "name:ddl, age:23, sex:nan, city:beijing, job:engeneer\n",
      "name:ddl, age:23, sex:nan, city:beijing, job:engeneer\n"
     ]
    }
   ],
   "source": [
    "#同样是打印个人信息，使用关键字参数实现\n",
    "def person_info(name,age,sex,**kw):\n",
    "    print(\"name:{0}, age:{1}, sex:{2}, city:{3}, job:{4}\".format(name,age,sex,kw.get(\"city\"),kw.get(\"job\")))\n",
    "\n",
    "person_info('ddl',23,'nan')\n",
    "person_info('ddl',23,'nan',city='beijing')\n",
    "person_info('ddl',23,'nan',city='beijing',job='engeneer')\n",
    "person_info('ddl',23,'nan',job='engeneer',city='beijing')"
   ]
  },
  {
   "cell_type": "markdown",
   "metadata": {},
   "source": [
    "通过上面这个例子，可以看出，关键字参数明显比默认参数简介好多，而且函数调用起来也比较灵活，不用太多考虑参数顺序。当然通过使用指定参数名的默认参数也可以实现，不过参数比较多的话，使用关键字参数可以直接传入一个字典。"
   ]
  },
  {
   "cell_type": "code",
   "execution_count": 54,
   "metadata": {},
   "outputs": [
    {
     "name": "stdout",
     "output_type": "stream",
     "text": [
      "name:ddl, age:23, sex:nan, city:beijing, job:engeneer\n"
     ]
    }
   ],
   "source": [
    "#直接传入一个字典作为附加信息\n",
    "person_inf = {'city':'beijing','job':'engeneer','sigle':False,'house':False,'educated':\"high school\"}\n",
    "person_info('ddl',23,'nan',**person_inf)"
   ]
  },
  {
   "cell_type": "markdown",
   "metadata": {},
   "source": [
    "### 命名关键字参数\n",
    "- 有时候我们可能并不需要那么多的可选参数，可能我们只需要几个特定的信息就足够了，一种方法是使用默认参数。还有一种方法就是使用命名关键字参数。"
   ]
  },
  {
   "cell_type": "code",
   "execution_count": 9,
   "metadata": {},
   "outputs": [
    {
     "name": "stdout",
     "output_type": "stream",
     "text": [
      "name:ddl, age:23, sex:nan, city:beijing, job:engeneer\n"
     ]
    }
   ],
   "source": [
    "#命名关键字参数 \n",
    "def person_info(name,age,sex,*,city,job):\n",
    "    print(\"name:{0}, age:{1}, sex:{2}, city:{3}, job:{4}\".format(name,age,sex,city,job))\n",
    "    \n",
    "person_info('ddl',23,'nan',city='beijing',job='engeneer')\n",
    "#person_info('ddl',23,'nan') #参数非缺省，必须填\n",
    "#person_info('ddl',23,'nan',city='beijing',job='engeneer',hobby='play game') #只能传指定参数\n",
    "#person_info('ddl',23,'nan','beijing','engeneer') #必须指定参数名"
   ]
  },
  {
   "cell_type": "markdown",
   "metadata": {},
   "source": [
    "- 命名关键字也可带缺省值"
   ]
  },
  {
   "cell_type": "code",
   "execution_count": 11,
   "metadata": {},
   "outputs": [
    {
     "name": "stdout",
     "output_type": "stream",
     "text": [
      "name:ddl, age:23, sex:nan, city:beijing, job:engeneer\n",
      "name:ddl, age:23, sex:nan, city:shengzhen, job:engeneer\n"
     ]
    }
   ],
   "source": [
    "#带缺省值的命名关键字\n",
    "def person_info(name,age,sex,*,city='shengzhen',job):\n",
    "    print(\"name:{0}, age:{1}, sex:{2}, city:{3}, job:{4}\".format(name,age,sex,city,job))\n",
    "#正常调用  \n",
    "person_info('ddl',23,'nan',city='beijing',job='engeneer')\n",
    "#缺省调用\n",
    "person_info('ddl',23,'nan',job='engeneer')"
   ]
  },
  {
   "cell_type": "markdown",
   "metadata": {},
   "source": [
    "- 当存在可变参数时，不再需要*"
   ]
  },
  {
   "cell_type": "code",
   "execution_count": 12,
   "metadata": {},
   "outputs": [
    {
     "name": "stdout",
     "output_type": "stream",
     "text": [
      "name:ddl, age:23, sex:nan, city:shengzhen, job:engeneer,other:('hello', 'world')\n"
     ]
    }
   ],
   "source": [
    "#带缺省值的命名关键字\n",
    "def person_info(name,age,sex,*args,city='shengzhen',job):\n",
    "    print(\"name:{0}, age:{1}, sex:{2}, city:{3}, job:{4},other:{5}\".format(name,age,sex,city,job,args))\n",
    "    \n",
    "person_info('ddl',23,'nan','hello','world',job='engeneer')"
   ]
  }
 ],
 "metadata": {
  "kernelspec": {
   "display_name": "Python 3",
   "language": "python",
   "name": "python3"
  },
  "language_info": {
   "codemirror_mode": {
    "name": "ipython",
    "version": 3
   },
   "file_extension": ".py",
   "mimetype": "text/x-python",
   "name": "python",
   "nbconvert_exporter": "python",
   "pygments_lexer": "ipython3",
   "version": "3.7.0"
  }
 },
 "nbformat": 4,
 "nbformat_minor": 2
}
