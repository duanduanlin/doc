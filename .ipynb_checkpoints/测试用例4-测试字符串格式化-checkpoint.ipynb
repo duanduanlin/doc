{
 "cells": [
  {
   "cell_type": "markdown",
   "metadata": {},
   "source": [
    "# 测试用例4-测试字符串格式化\n",
    "- %格式化字符\n",
    "    - %格式字符一定要按照既定顺序排列\n",
    "- format函数格式化"
   ]
  },
  {
   "cell_type": "markdown",
   "metadata": {},
   "source": [
    "## 使用%格式化字符串\n",
    "- 格式：%[(name)][flags][width].[precision]typecode\n",
    "    - (name) 可选，用于选择指定的key\n",
    "    - flags 可选，可供选择的值有：\n",
    "        - +右对齐：正数的加正号，负数的加负号\n",
    "        - -左对齐：正数前没有负号，负数前加负号\n",
    "        - 0用0填充，好像只能用来填充数值\n",
    "    - width 可选，占有宽度\n",
    "    - .precision 可选，小数点后保留的位数\n",
    "    - typecode 必选\n",
    "        - s    字符串 (采用str()的显示)\n",
    "        - r    字符串 (采用repr()的显示)\n",
    "        - c    单个字符\n",
    "        - b    二进制整数\n",
    "        - d    十进制整数\n",
    "        - i    十进制整数\n",
    "        - o    八进制整数\n",
    "        - x    十六进制整数\n",
    "        - e    指数 (基底写为e)\n",
    "        - E    指数 (基底写为E)\n",
    "        - f    浮点数\n",
    "        - F    浮点数，与上相同\n",
    "        - g    指数(e)\u0010或浮点数 (根据显示长度)\n",
    "        - G    指数(E)或浮点数 (根据显示长度)\n",
    "        - %    字符\"%\""
   ]
  },
  {
   "cell_type": "markdown",
   "metadata": {},
   "source": [
    "### （name）用于指定参数位置\n",
    "- %字符串格式化使用（name）的话，则后面参数传递需要以字典形式传入"
   ]
  },
  {
   "cell_type": "code",
   "execution_count": 7,
   "metadata": {},
   "outputs": [
    {
     "name": "stdout",
     "output_type": "stream",
     "text": [
      "i am ddl,i'm 23 years old.\n",
      "i am ddl,i'm 23 years old.\n",
      "i am ddl,i'm 23 years old.\n",
      "i am 23,i'm ddl years old.\n"
     ]
    }
   ],
   "source": [
    "# 测试%之name\n",
    "#注意如果使用（name）,则对于参数要以字典形式传入\n",
    "print(\"i am %(n1)s,i'm %(n2)d years old.\" %{'n1':\"ddl\",'n2':23})\n",
    "print(\"i am %(n1)s,i'm %(n2)d years old.\" %{'n2':23,'n1':\"ddl\"})\n",
    "#常规操作\n",
    "#对于多个参数，以元组形式传入特定顺序的参数\n",
    "print(\"i am %s,i'm %d years old.\" %(\"ddl\",23))\n",
    "\n",
    "#所有其他数据都可传给%s但其他数据需要匹配数据类型，否则会报错\n",
    "#print(\"i am %s,i'm %d years old.\" %(23,\"ddl\")) #TypeError \n",
    "print(\"i am %s,i'm %s years old.\" %(23,\"ddl\"))"
   ]
  },
  {
   "cell_type": "markdown",
   "metadata": {},
   "source": [
    "### flags用于标注数值的正负或对齐方式\n",
    "- 使用‘+’用于显示数值正负时，正负都会显示符号，而‘-’只会显示负号\n",
    "- 此外‘+’表示右对齐，‘-’表示左对齐，但只有在字符本身宽度小于格式化宽度时才能看出来区别"
   ]
  },
  {
   "cell_type": "code",
   "execution_count": 44,
   "metadata": {},
   "outputs": [
    {
     "name": "stdout",
     "output_type": "stream",
     "text": [
      "i am ddl,i'm +23 years old，and i have -80000 yuan.\n",
      "i am ddl,i'm 23 years old，and i have -80000 yuan.\n",
      "i am        ddl,i'm +23 years old，and i have -80000 yuan.\n",
      "i am        ddl,i'm +23 years old，and i have -80000 yuan.\n",
      "i am ddl       ,i'm +23 years old，and i have -80000 yuan.\n",
      "i am ddl       ,i'm +23 years old，and i have -000080000 yuan.\n"
     ]
    }
   ],
   "source": [
    "# 测试之flags\n",
    "#使用+时，整数加正，负数加负\n",
    "print(\"i am %(n1)+s,i'm %(n2)+d years old，and i have %(n3)+d yuan.\" %{'n1':\"ddl\",'n2':23,'n3':-80000})\n",
    "#使用-时，只有负数加负\n",
    "print(\"i am %(n1)-s,i'm %(n2)-d years old，and i have %(n3)-d yuan.\" %{'n1':\"ddl\",'n2':23,'n3':-80000})\n",
    "#测试对齐，将字符宽度设成10，默认右对齐\n",
    "print(\"i am %(n1)10s,i'm %(n2)+d years old，and i have %(n3)+d yuan.\" %{'n1':\"ddl\",'n2':23,'n3':-80000})\n",
    "#右对齐\n",
    "print(\"i am %(n1)+10s,i'm %(n2)+d years old，and i have %(n3)+d yuan.\" %{'n1':\"ddl\",'n2':23,'n3':-80000})\n",
    "#左对齐\n",
    "print(\"i am %(n1)-10s,i'm %(n2)+d years old，and i have %(n3)+d yuan.\" %{'n1':\"ddl\",'n2':23,'n3':-80000})\n",
    "#注意格式字符顺序不能颠倒\n",
    "#print(\"i am %(n1)10-s,i'm %(n2)+d years old，and i have %(n3)+d yuan.\" %{'n1':\"ddl\",'n2':23,'n3':-80000})\n",
    "print(\"i am %(n1)-10s,i'm %(n2)+d years old，and i have %(n3)+010d yuan.\" %{'n1':\"ddl\",'n2':23,'n3':-80000})"
   ]
  },
  {
   "cell_type": "markdown",
   "metadata": {},
   "source": [
    "### width用于设置宽度\n",
    "- 正整数"
   ]
  },
  {
   "cell_type": "code",
   "execution_count": 22,
   "metadata": {},
   "outputs": [
    {
     "name": "stdout",
     "output_type": "stream",
     "text": [
      "i am        ddl,i'm 23 years old.\n",
      "i am ddl       ,i'm +23 years old，and i have -80000 yuan.\n"
     ]
    }
   ],
   "source": [
    "#测试width\n",
    "print(\"i am %10s,i'm %d years old.\" %(\"ddl\",23))\n",
    "#配合+-使用\n",
    "print(\"i am %(n1)-10s,i'm %(n2)+d years old，and i have %(n3)+d yuan.\" %{'n1':\"ddl\",'n2':23,'n3':-80000})"
   ]
  },
  {
   "cell_type": "markdown",
   "metadata": {},
   "source": [
    "### .precision小数显示的精度\n",
    "- 只对%f有效\n",
    "- 精度数值也可使用*动态传入"
   ]
  },
  {
   "cell_type": "code",
   "execution_count": 35,
   "metadata": {},
   "outputs": [
    {
     "name": "stdout",
     "output_type": "stream",
     "text": [
      "i am ddl,i'm 23 years old.\n",
      "i am ddl,i'm 23 years old.\n",
      "i am ddl,i'm 23.00 years old.\n",
      "i am ddl,i'm 23.00 years old.\n"
     ]
    }
   ],
   "source": [
    "# 测试.precision\n",
    "print(\"i am %s,i'm %.2d years old.\" %(\"ddl\",23))\n",
    "print(\"i am %s,i'm %.2d years old.\" %(\"ddl\",23.0))\n",
    "# .precision\n",
    "print(\"i am %s,i'm %.2f years old.\" %(\"ddl\",23))\n",
    "# 使用*动态传入精度\n",
    "print(\"i am %s,i'm %.*f years old.\" %(\"ddl\",2,23))\n",
    "#print(\"i am %(n1)s,i'm %(n2).*f years old.\" %{'n1':\"ddl\",'n2':(2,23)})"
   ]
  },
  {
   "cell_type": "markdown",
   "metadata": {},
   "source": [
    "## 使用format函数格式化字符串\n",
    "- 格式：[模板字符串].format([逗号分隔的参数])\n",
    "- 使用{name:format_spec}占位\n",
    "    - name:参数标识符\n",
    "    - format_spec：格式限定符，可选，格式：<填充><对齐><宽度><千位分隔符><精度><类型>\n",
    "        - <填充>：字符宽度小于打印宽度是所填充的内容，默认空格\n",
    "        - <对齐>：指明对齐方式，<,>,^,分别表示左对齐，右对齐和居中\n",
    "        - <宽度>：指明打印宽度，若宽度小于字符本身宽度，则打印字符本身，若宽度大于字符本身宽度，则以填充字符填充\n",
    "        - <千位分隔符>：‘，’表示千位分隔符，仅对数值有效\n",
    "        - <精度>：‘.’后跟正整数，设置浮点数精度\n",
    "        - <类型>：\n",
    "            - b: 输出整数的二进制方式；\n",
    "            - c: 输出整数对应的 Unicode 字符\n",
    "            - d: 输出整数的十进制方式\n",
    "            - o: 输出整数的八进制方式\n",
    "            - x: 输出整数的小写十六进制方式\n",
    "            - X: 输出整数的大写十六进制方式\n",
    "            - e: 输出浮点数对应的小写字母 e 的指数形式；\n",
    "            - E: 输出浮点数对应的大写字母 E 的指数形式；\n",
    "            - f: 输出浮点数的标准浮点形式；\n",
    "            - %: 输出浮点数的百分形式。\n",
    "- 映射规则：\n",
    "    - 通过位置，编号从0开始\n",
    "    - 通过关键字参数\n",
    "    - 通过对象属性\n",
    "    - 通过下标\n",
    "    "
   ]
  },
  {
   "cell_type": "markdown",
   "metadata": {},
   "source": [
    "### 基本操作"
   ]
  },
  {
   "cell_type": "code",
   "execution_count": 55,
   "metadata": {},
   "outputs": [
    {
     "name": "stdout",
     "output_type": "stream",
     "text": [
      "i am ddl,i'm 23 years old.\n",
      "\"i am ddl,i'm 23 years old,\" said by ddl.\n"
     ]
    }
   ],
   "source": [
    "#测试 format格式化\n",
    "#不使用参数标识符，则默认从0编号\n",
    "print(\"i am {},i'm {} years old.\".format('ddl',23))\n",
    "#使用编号，format从0编号，注意编号溢出会报错\n",
    "print(\"\\\"i am {0},i'm {1} years old,\\\" said by {0}.\".format('ddl',23))"
   ]
  },
  {
   "cell_type": "markdown",
   "metadata": {},
   "source": [
    "### 格式限定符\n",
    "- 填充一定要指明对齐方式，一般会和宽度一起使用"
   ]
  },
  {
   "cell_type": "code",
   "execution_count": 90,
   "metadata": {},
   "outputs": [
    {
     "name": "stdout",
     "output_type": "stream",
     "text": [
      "\"i am ddl,i'm ****23**** years old,\" said by ddl.\n",
      "\"i am ddl,i'm         23 years old,\" said by ddl.\n",
      "\"i am ddl,i'm 23         years old,\" said by ddl.\n",
      "\"i am ddl,i'm     23     years old,\" said by ddl.\n",
      "i am ddl,i'm 23 years old，and i have -80,000 yuan.\n",
      "i am ddl,i'm 23.00 years old，and i have -80,000 yuan.\n",
      "\"i am ddl,i'm **23.00*** years old,\" said by ddl.\n",
      "\"i am ddl,i'm ***23.0*** years old,\" said by ddl.\n"
     ]
    }
   ],
   "source": [
    "#填充需要和对齐以及宽度配合使用\n",
    "print(\"\\\"i am {0},i'm {1:*^10} years old,\\\" said by {0}.\".format('ddl',23))\n",
    "#填充的话一定要指明对齐方式\n",
    "#print(\"\\\"i am {0},i'm {1:*10} years old,\\\" said by {0}.\".format('ddl',23))\n",
    "#默认空格填充右对齐\n",
    "print(\"\\\"i am {0},i'm {1:10} years old,\\\" said by {0}.\".format('ddl',23))\n",
    "print(\"\\\"i am {0},i'm {1:<10} years old,\\\" said by {0}.\".format('ddl',23))\n",
    "print(\"\\\"i am {0},i'm {1:^10} years old,\\\" said by {0}.\".format('ddl',23))\n",
    "# ,表示千分隔符\n",
    "print(\"i am {0},i'm {1} years old，and i have {2:,} yuan.\".format('ddl',23,-80000))\n",
    "#浮点数用.p设置精度,注意只对类型为浮点数有效\n",
    "print(\"i am {0},i'm {1:.2f} years old，and i have {2:,} yuan.\".format('ddl',23,-80000))\n",
    "\n",
    "print(\"\\\"i am {0},i'm {1:*^10.2f} years old,\\\" said by {0}.\".format('ddl',23))\n",
    "#限定符也可当做参数传入\n",
    "print(\"\\\"i am {0},i'm {1:{2}{3}{4}.{5}f} years old,\\\" said by {0}.\".format('ddl',23,'*','^',10,1))\n"
   ]
  },
  {
   "cell_type": "markdown",
   "metadata": {},
   "source": [
    "### 映射规则\n",
    "- 有坑必填，占了几个坑，就得填几个\n",
    "- 自动模式和编号模式不能混着用"
   ]
  },
  {
   "cell_type": "code",
   "execution_count": 110,
   "metadata": {},
   "outputs": [
    {
     "name": "stdout",
     "output_type": "stream",
     "text": [
      "i am ddl,i'm 23 years old.\n",
      "i am ddl,i'm 23 years old.\n",
      "i am ddl,i'm 23 years old.\n"
     ]
    }
   ],
   "source": [
    "# 通过位置映射\n",
    "#不带标识符\n",
    "print(\"i am {},i'm {} years old.\".format('ddl',23))\n",
    "#print(\"i am {},i'm {} years old.\".format('ddl')) #少填是不行的\n",
    "print(\"i am {},i'm {} years old.\".format('ddl',23,'hello')) #参数穿多了没事\n",
    "#使用数字编号\n",
    "print(\"i am {0},i'm {1} years old.\".format('ddl',23))\n",
    "\n",
    "#print(\"i am {0},i'm {1} years old.{0} say:{}\".format('ddl',23,'hello')) #不能混着用"
   ]
  },
  {
   "cell_type": "code",
   "execution_count": 115,
   "metadata": {},
   "outputs": [
    {
     "name": "stdout",
     "output_type": "stream",
     "text": [
      "i am ddl,i'm 23 years old.\n",
      "i am ddl,i'm 23 years old.ddl say:hello\n",
      "i am ddl,i'm 23 years old.ddl say:hello\n"
     ]
    }
   ],
   "source": [
    "#通过关键字参数\n",
    "print(\"i am {name},i'm {age} years old.\".format(age=23,name='ddl'))\n",
    "#关键字可以和自动编号混着用,\n",
    "print(\"i am {name},i'm {age} years old.{name} say:{}\".format('hello',age=23,name='ddl'))\n",
    "#关键字也可以和编号混着用\n",
    "print(\"i am {name},i'm {age} years old.{name} say:{0}\".format('hello',age=23,name='ddl'))"
   ]
  },
  {
   "cell_type": "code",
   "execution_count": 117,
   "metadata": {},
   "outputs": [],
   "source": [
    "#通过对象属性"
   ]
  },
  {
   "cell_type": "code",
   "execution_count": 119,
   "metadata": {},
   "outputs": [
    {
     "name": "stdout",
     "output_type": "stream",
     "text": [
      "i am ddl,i'm 23 years old.ddl say: hello\n"
     ]
    }
   ],
   "source": [
    "#通过下标\n",
    "l = ['ddl',23,'hello']\n",
    "print(\"i am {0[0]},i'm {0[1]} years old.{0[0]} say: {0[2]}\".format(l))"
   ]
  }
 ],
 "metadata": {
  "kernelspec": {
   "display_name": "Python 3",
   "language": "python",
   "name": "python3"
  },
  "language_info": {
   "codemirror_mode": {
    "name": "ipython",
    "version": 3
   },
   "file_extension": ".py",
   "mimetype": "text/x-python",
   "name": "python",
   "nbconvert_exporter": "python",
   "pygments_lexer": "ipython3",
   "version": "3.7.0"
  }
 },
 "nbformat": 4,
 "nbformat_minor": 2
}
