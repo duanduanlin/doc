{
 "cells": [
  {
   "cell_type": "markdown",
   "metadata": {},
   "source": [
    "# 测试用例2-测试list\n",
    "- 列表是可变序列，其内的值是有序的，通过下标索引。\n",
    "\n",
    "## 1. 创建list\n",
    "- 列表创建可以通过中括号[]创建，也可以通过list()类实例化列表对象\n",
    "\n",
    "### 创建一个空的列表"
   ]
  },
  {
   "cell_type": "code",
   "execution_count": 191,
   "metadata": {},
   "outputs": [
    {
     "name": "stdout",
     "output_type": "stream",
     "text": [
      "[]\n",
      "[]\n"
     ]
    }
   ],
   "source": [
    "#创建一个空list\n",
    "a = []\n",
    "b = list()\n",
    "print(a)\n",
    "print(b)"
   ]
  },
  {
   "cell_type": "markdown",
   "metadata": {},
   "source": [
    "### 根据值创建列表"
   ]
  },
  {
   "cell_type": "code",
   "execution_count": 192,
   "metadata": {},
   "outputs": [
    {
     "name": "stdout",
     "output_type": "stream",
     "text": [
      "[5, 2, 1]\n",
      "[1]\n"
     ]
    }
   ],
   "source": [
    "#创建带值的list\n",
    "a = [5,2,1]\n",
    "b = [1]\n",
    "#c = [[0]=5,[2]=1] #创建时给指定位置赋值是非法的\n",
    "print(a)\n",
    "print(b)"
   ]
  },
  {
   "cell_type": "markdown",
   "metadata": {},
   "source": [
    "### 借助列表推导式创建"
   ]
  },
  {
   "cell_type": "code",
   "execution_count": 200,
   "metadata": {},
   "outputs": [
    {
     "name": "stdout",
     "output_type": "stream",
     "text": [
      "[0, 1, 2, 3, 4, 5, 6, 7, 8, 9]\n",
      "['h', 'e', 'l', 'l', 'o', ' ', 'w', 'o', 'r', 'l', 'd']\n",
      "[5, 2, 1]\n",
      "[1, 2, 5] [1, 2, 5]\n",
      "['i', 'l', 'y']\n",
      "[0, 2, 4, 6, 8]\n",
      "[(0, 0), (1, 1), (2, 2), (3, 3), (4, 4), (5, 5), (6, 6), (7, 7), (8, 8), (9, 9)]\n"
     ]
    }
   ],
   "source": [
    "#借助列表推导式创建,in 后面的表达式，必须是可迭代对象\n",
    "a = [x for x in range(10)] #从列表推导\n",
    "b = [s for s in \"hello world\"] #从字符串推导\n",
    "c = [t for t in (5,2,1)] #从元组推导\n",
    "d = [s for s in {1,2,5}] #集合元素是无序的，但列表推导式生成的列表好像变成有序\n",
    "e = [s for s in {5,2,1}]\n",
    "f = [k for k in {'i':5,'l':2,'y':1}] #从字典推导，好像只能得到key的列表\n",
    "g = [x for x in range(10) if x % 2 == 0] #加入筛选条件的推导式\n",
    "h = [(x,y) for x in range(10) for y in range(10) if x == y] #多层推导，相当于多层for语句\n",
    "print(a)\n",
    "print(b)\n",
    "print(c)\n",
    "print(d,e)\n",
    "print(f)\n",
    "print(g)\n",
    "print(h)"
   ]
  },
  {
   "cell_type": "markdown",
   "metadata": {},
   "source": [
    "### 通过列表创建"
   ]
  },
  {
   "cell_type": "code",
   "execution_count": 202,
   "metadata": {},
   "outputs": [
    {
     "name": "stdout",
     "output_type": "stream",
     "text": [
      "[0, 1, 2, 3, 4, 5, 6, 7, 8, 9] 87578376\n",
      "[0, 1, 2, 3, 4, 5] 87591496\n",
      "[0, 1, 2, 3, 4, 5, 6, 7, 8, 9] 87578376\n",
      "[0, 1, 2, 3, 4, 5, 6, 7, 8, 9] 87577608\n"
     ]
    }
   ],
   "source": [
    "#从别的list上创建\n",
    "a = [x for x in range(10)]\n",
    "b = a[:6] #切片得到\n",
    "c = a #对象赋值,传址操作\n",
    "print(a,id(a))\n",
    "print(b,id(b))\n",
    "print(c,id(c))\n",
    "print(d,id(d))\n",
    "\n",
    "d = a.copy() #浅拷贝，所谓浅拷贝是指只拷贝一层\n",
    "a.append([5,2,1])"
   ]
  },
  {
   "cell_type": "markdown",
   "metadata": {},
   "source": [
    "### 使用list()创建"
   ]
  },
  {
   "cell_type": "code",
   "execution_count": 195,
   "metadata": {},
   "outputs": [
    {
     "name": "stdout",
     "output_type": "stream",
     "text": [
      "['h', 'e', 'l', 'l', 'o', ' ', 'w', 'o', 'r', 'l', 'd']\n",
      "[5, 2, 1]\n",
      "[5, 2, 1]\n",
      "[1, 2, 5]\n",
      "['i', 'l', 'y']\n"
     ]
    }
   ],
   "source": [
    "#list()创建\n",
    "a = list( 'hello world') #字符串\n",
    "b = list((5,2,1)) #元组\n",
    "c = list([5,2,1]) #列表\n",
    "d = list({5,2,1}) #集合\n",
    "e = list({'i':5,'l':2,'y':1}) #字典\n",
    "print(a)\n",
    "print(b)\n",
    "print(c)\n",
    "print(d)\n",
    "print(e)"
   ]
  },
  {
   "cell_type": "markdown",
   "metadata": {},
   "source": [
    "## 2 操作列表\n",
    "- 列表的操作常用的是索引和切片以及列表方法\n",
    "### 索引操作。\n",
    "- 和大多数语言一样，从0开始，到len(l)-1结束。此外也可以反向索引，从-1开始到-len(l)结束。\n",
    "  "
   ]
  },
  {
   "cell_type": "code",
   "execution_count": 180,
   "metadata": {},
   "outputs": [
    {
     "name": "stdout",
     "output_type": "stream",
     "text": [
      "[0, 1, 2, 3, 4, 5, 6, 7, 8, 9]\n",
      "0\n",
      "9\n",
      "0\n",
      "[123, 1, 2, 3, 4, 5, 6, 7, 8, 9]\n",
      "[123, 1, 2, 3, 4, 5, 6, 7, 8, 234]\n"
     ]
    }
   ],
   "source": [
    "#索引操作，取值范围,正向：【0~len(a)-1】，反向：【-1~-len(a)】\n",
    "a = list(range(10))\n",
    "print(a)\n",
    "print(a[0]) #取出第一个值\n",
    "#print(a[len(a)]) #这个会溢出\n",
    "print(a[-1]) #取出最后一个值\n",
    "print(a[-len(a)]) #这个是合法的\n",
    "#a['i'] = 5 #下标只能是整数\n",
    "a[0] = 123 #改变第一个值\n",
    "print(a)\n",
    "a[len(a)-1] = 234 #改变最后一个值\n",
    "print(a)"
   ]
  },
  {
   "cell_type": "markdown",
   "metadata": {},
   "source": [
    "### 切片操作\n",
    "- 取出或修改列表的某一段值。使用index1：index2操作符（左闭右开），索引可正可负，忽略索引或索引溢出时默认为对应列表边界。\n",
    "    - 正负是相对的，正是相对列表开头，负是相对列表结尾。但切片总是从左索引到右索引取值或是从右索引到左索引取值，这取决于步长正负\n",
    "    - 左右索引同号时，如果左边大于右边，且步长为正，返回空列表\n",
    "    - 无论正负，左索引忽略或溢出时，默认列表开头；同样，右索引忽略或溢出时，默认列表结尾\n",
    "    - 切片操作是生成一个新列表\n",
    "    - 使用切片给列表某一段赋值，可以修改，清空，压缩或扩展列表，但必须使用可迭代数据，字符串，元组，集合，字典等。\n",
    "    - 切片还有一个默认参数，用于指定步长，默认1\n",
    "    - 通过设置步长为负，可以对列表进行倒叙\n",
    "    - 步长正负也是相对的，为正表示从左索引向右取值，为负表示从右索引向左取值\n",
    "    "
   ]
  },
  {
   "cell_type": "code",
   "execution_count": 181,
   "metadata": {},
   "outputs": [
    {
     "name": "stdout",
     "output_type": "stream",
     "text": [
      "************************* 切片操作 *************************\n",
      "[0, 1, 2, 3, 4, 5, 6, 7, 8, 9]\n",
      "[0, 1, 2, 3, 4]\n",
      "[0, 1, 2, 3, 4]\n",
      "[4, 5, 6, 7, 8, 9]\n",
      "[]\n",
      "[0, 1, 2, 3, 4, 5, 6, 7, 8]\n",
      "[1, 2, 3, 4, 5, 6, 7, 8, 9]\n",
      "[4, 5, 6, 7, 8]\n",
      "87607880 87608072\n",
      "[0, 2, 4] [] [6, 5, 4, 3, 2, 1] [9, 8, 7, 6, 5, 4, 3, 2, 1]\n",
      "************************* 利用切片赋值 *************************\n",
      "[10, 1, 2, 3, 4, 5, 6, 7, 8, 9] 87607880\n",
      "[2, 1, 0, 3, 4, 5, 6, 7, 8, 9] 87607880\n",
      "[2, 1, 0, 3, 4, 5, 6, 7, 8, 9] 87607880\n",
      "[0, 1, 2, 3, 4, 5, 6, 7, 8, 9] 87607880\n",
      "['d', 'd', 'l', 3, 4, 5, 6, 7, 8, 9] 87607880\n",
      "['i', 'l', 'y', 3, 4, 5, 6, 7, 8, 9] 87607880 <class 'list'>\n",
      "{'i': 5, 'l': 2, 'y': 1} 87126952 <class 'dict'>\n",
      "[10, 3, 4, 5, 6, 7, 8, 9]\n",
      "[6, 5, 4, 3, 2, 1, 5, 6, 7, 8, 9]\n",
      "[3, 2, 1, 5, 6, 7, 8, 9]\n",
      "[]\n"
     ]
    }
   ],
   "source": [
    "#切片操作\n",
    "print('*'*25,'切片操作',\"*\"*25)\n",
    "a = list(range(10))\n",
    "print(a)\n",
    "print(a[0:5]) #取出a[0]到a[4]之间的数值\n",
    "print(a[:5]) #忽略左索引，默认为列表开头\n",
    "print(a[-6:]) #忽略右索引，默认为列表结尾 \n",
    "print(a[-1:-5]) #同符号下左边大于右边，返回空列表\n",
    "print(a[-50:-1]) #左边索引溢出，默认列表开头\n",
    "print(a[1:50]) #右边索引溢出，默认列表结尾\n",
    "print(a[-6:9]) #正负是相对的，正是相对于列表开头，负是相对于列表结尾，但列表还是那个列表。比如此处是获取倒数第六个到正数第九个\n",
    "b = a[0:6]\n",
    "print(id(a),id(b))\n",
    "c = a[0:6:2] #指定切片步长为2\n",
    "d = a[0:6:-1] #返回空\n",
    "e = a[6:0:-1] #左右索引同号，且左索引大于右索引，若此时步长为-1，则返回一个倒叙的列表\n",
    "f = a[-1:0:-1] #返回一个倒叙的列表\n",
    "print(c,d,e,f)\n",
    "\n",
    "print('*'*25,'利用切片赋值',\"*\"*25)\n",
    "a[0:1] = [10] #修改第一个数,注意此处必须使用可迭代数据\n",
    "print(a,id(a))\n",
    "a[0:3] = [2,1,0]\n",
    "print(a,id(a)) #批量修改前三个数\n",
    "a[0:3] = (2,1,0) #可以用元组\n",
    "print(a,id(a))\n",
    "a[0:3] = {0,1,2} #集合\n",
    "print(a,id(a))\n",
    "a[0:3] = 'ddl' #字符串\n",
    "print(a,id(a))\n",
    "del b    #删掉b\n",
    "b = a[0:3] = {'i':5,'l':2,'y':1} #字典,这里是把a[0:3]和b分别赋值为字典，不过对于a来说会把字典的key取出来转换成列表。\n",
    "print(a,id(a),type(a[0:3]))\n",
    "print(b,id(b),type(b))\n",
    "a[0:3] = [10] #压缩前三个\n",
    "print(a)\n",
    "a[0:3] = [6,5,4,3,2,1] #扩展\n",
    "print(a)\n",
    "a[0:3] = [] #删除\n",
    "print(a)\n",
    "a[:] = [] #清空列表\n",
    "print(a)"
   ]
  },
  {
   "cell_type": "markdown",
   "metadata": {},
   "source": [
    "### 更新列表\n",
    "- 增删查改\n",
    "#### 修改元素\n",
    "- 一般使用索引和切片。\n",
    "- 列表倒叙可以使用reverse()方法，此外也可使用切片方法，并设置步长为-1实现。且后者还可以倒叙列表的某一段\n",
    "- 列表排序使用sort()方法，默认升序，倒序的话，可以设置关键字参数reverse=True\n"
   ]
  },
  {
   "cell_type": "code",
   "execution_count": 190,
   "metadata": {},
   "outputs": [
    {
     "name": "stdout",
     "output_type": "stream",
     "text": [
      "[0, 1, 2, 3, 4, 5, 6, 7, 8, 9]\n",
      "[10, 1, 2, 3, 4, 5, 6, 7, 8, 9]\n",
      "[20, 1, 2, 3, 4, 5, 6, 7, 8, 9]\n",
      "[11, 12, 13, 3, 4, 5, 6, 7, 8, 9]\n",
      "[10, 20, 30, 3, 4, 5, 6, 7, 8, 9]\n",
      "[9, 8, 7, 6, 5, 4, 3, 30, 20, 10]\n",
      "[10, 20, 30, 3, 4, 5, 6, 7, 8]\n",
      "[10, 20, 30, 3, 6, 5, 6, 7, 8]\n",
      "[3, 5, 6, 6, 7, 8, 10, 20, 30]\n",
      "[30, 20, 10, 8, 7, 6, 6, 5, 3]\n"
     ]
    }
   ],
   "source": [
    "#修改\n",
    "a = list(range(10))\n",
    "print(a)\n",
    "a[0] = 10 #使用索引修改单个数据\n",
    "print(a)\n",
    "a[0:1] = [20] #使用切片修改单个数据\n",
    "print(a)\n",
    "a[0],a[1],a[2] = 11,12,13 #索引批量修改\n",
    "print(a)\n",
    "a[0:3] = [10,20,30] #切片批量修改\n",
    "print(a)\n",
    "a.reverse() #倒叙\n",
    "print(a)\n",
    "a = a[-1:0:-1] #使用切片倒叙\n",
    "print(a)\n",
    "a[4:6] = a[6:4:-1] #某一段列表倒叙\n",
    "print(a)\n",
    "a.sort() #列表排序，默认升序，指定关键字reverse = True可降序\n",
    "print(a)\n",
    "a.sort(reverse = True)\n",
    "print(a)\n",
    "\n"
   ]
  },
  {
   "cell_type": "markdown",
   "metadata": {},
   "source": [
    "#### 添加元素\n",
    "- 在末尾添加一个对象用append()方法\n",
    "- 在末尾添加一个序列用extend()和加法运算\n",
    "- 在开头添加一个序列可以使用加法运算\n",
    "- 在指定位置插入某个对象可以使用insert(),可以理解为前插\n"
   ]
  },
  {
   "cell_type": "code",
   "execution_count": 185,
   "metadata": {},
   "outputs": [
    {
     "name": "stdout",
     "output_type": "stream",
     "text": [
      "[0, 1, 2, 3, 4, 5, 6, 7, 8, 9]\n",
      "[0, 1, 2, 3, 4, 5, 6, 7, 8, 9, 11] None\n",
      "[0, 1, 2, 3, 4, 5, 6, 7, 8, 9, 11, 12]\n",
      "[0, 1, 2, 3, 4, 5, 6, 7, 8, 9, 11, 12, 'd', 'd', 'l', 5, 2, 1]\n",
      "[0, 1, 2, 3, 4, 5, 6, 7, 8, 9, 11, 12, 'd', 'd', 'l', 5, 2, 1, 'ddl']\n",
      "[0, 1, 2, 3, 4, 5, 6, 7, 8, 9, 11, 12, 'd', 'd', 'l', 5, 2, 1, 'ddl', 5, 2, 1]\n",
      "[5, 2, 1, 0, 1, 2, 3, 4, 5, 6, 7, 8, 9, 11, 12, 'd', 'd', 'l', 5, 2, 1, 'ddl', 5, 2, 1]\n",
      "[5, 2, 1, 0, 1, 2, 3, 4, 5, 6, 5, 2, 1, 0, 1, 2, 3, 4, 5, 6]\n",
      "['ddl', 5, 2, 1, 0, 1, 2, 3, 4, 5, 6, 5, 2, 1, 0, 1, 2, 3, 4, 5, 6]\n",
      "['ddl', 5, 2, 1, 0, 1, 2, 3, 4, 5, 6, 5, 2, 1, 0, 1, 2, 3, 4, 5, 'ddl', 6]\n"
     ]
    }
   ],
   "source": [
    "a = list(range(10))\n",
    "print(a)\n",
    "b = a.append(11) #在列表末尾添加,无返回值,且只能添加一个对象\n",
    "print(a,b)\n",
    "a[-1:] = [a[-1],12] #切片在末尾扩充列表\n",
    "print(a)\n",
    "a.extend('ddl') #末尾扩展一个序列，无返回值\n",
    "a.extend((5,2,1)) #扩展元组\n",
    "print(a)\n",
    "a[-1:] = [a[-1],'ddl'] #这样只能在末尾增加一个字符串对象，无法扩展序列\n",
    "print(a)\n",
    "a = a+[5,2,1] #加法运算在末尾扩充序列\n",
    "print(a)\n",
    "a = [5,2,1]+a #加法运算在开头扩展序列\n",
    "print(a)\n",
    "#a = a + 'ddl' #非法，列表加法运算符只能操作列表\n",
    "#a = a+4 #非法\n",
    "a[10:] = [] #太长了截掉一段\n",
    "a = a*2 #重复序列两次\n",
    "print(a)\n",
    "a.insert(0,'ddl') #在索引0处添加对象，也就是前插\n",
    "print(a)\n",
    "a.insert(-1,'ddl')\n",
    "print(a)\n"
   ]
  },
  {
   "cell_type": "markdown",
   "metadata": {},
   "source": [
    "#### 查询元素\n",
    "- index()方法用于查找某对象第一次出现的索引，未找到会报错\n",
    "- count()方法用于统计某对象出现的次数\n",
    "- 如果列表为纯数字或字符串列表，则列表方法max()和min()用于查找最值\n"
   ]
  },
  {
   "cell_type": "code",
   "execution_count": 187,
   "metadata": {},
   "outputs": [
    {
     "name": "stdout",
     "output_type": "stream",
     "text": [
      "[0, 1, 2, 3, 4, 5, 6, 7, 8, 9]\n",
      "[0, 1, 2, 'ddl', 3, 4, 5, 6, 7, 8, 9, 'ddl']\n",
      "3\n",
      "2\n",
      "0\n",
      "[0, 1, 2, 3, 4, 5, 6, 7, 8, 9] 9 0\n",
      "['h', 'e', 'l', 'l', 'o', 'w', 'o', 'r', 'l', 'd'] w d\n",
      "[(1, 1), (-1, 1), (-1, -1), (1, -1)] (-1, -1) (1, 1)\n",
      "[{1, 2}, {2, -1}, {1, -2}, {-1, -2}] {1, 2} {1, 2}\n"
     ]
    }
   ],
   "source": [
    "#查询\n",
    "a = list(range(10))\n",
    "print(a)\n",
    "a.insert(3,'ddl')\n",
    "a.append('ddl')\n",
    "print(a)\n",
    "print(a.index('ddl')) #查询‘ddl’第一次出现的索引\n",
    "#print(a.index('dcl')) #没找到会报错\n",
    "print(a.count('ddl')) #统计字符串出现的次数\n",
    "print(a.count('dcl'))\n",
    "#print(max(a)) #列表函数，查找最大值，注意只能对纯数字或纯字符串列表使用\n",
    "#print(min(a)) #同上\n",
    "a = list(range(10))\n",
    "print(a,max(a),min(a))\n",
    "a = [x for x in 'helloworld']\n",
    "print(a,max(a),min(a))\n",
    "a = [(1,1),(-1,1),(-1,-1),(1,-1)] #纯数字的元组列表，min和max比较元组元素之和\n",
    "print(a,min(a),max(a))\n",
    "a = [{1,2},{-1,2},{1,-2},{-1,-2}] #集合比较规则不清楚\n",
    "print(a,min(a),max(a))\n",
    "a = [(1,1),(-1,1),(-1,-1),4]\n",
    "#print(a,min(a),max(a)) #元组和整数列表无法比较\n"
   ]
  },
  {
   "cell_type": "markdown",
   "metadata": {},
   "source": [
    "#### 删除元素\n",
    "- del l[index]删除指定索引的数据\n",
    "- pop() 同上，不过默认索引是-1\n",
    "- remove(),删除列表中第一个匹配某数值的元素，若找不到，这报错\n",
    "- clear(),清空列表，\n",
    "- del l 会直接删除列表对象l"
   ]
  },
  {
   "cell_type": "code",
   "execution_count": 189,
   "metadata": {},
   "outputs": [
    {
     "name": "stdout",
     "output_type": "stream",
     "text": [
      "[0, 1, 2, 3, 4, 5, 6, 7, 8, 9]\n",
      "[1, 2, 3, 4, 5, 6, 7, 8, 9]\n",
      "[1, 2, 3, 4, 5, 6, 7, 8] 9\n",
      "[2, 3, 4, 5, 6, 7, 8]\n",
      "[3, 4, 5, 6, 7, 8]\n",
      "[3, 4, 8, 5, 6, 7, 8]\n",
      "[3, 4, 5, 6, 7, 8]\n",
      "[]\n",
      "None\n"
     ]
    }
   ],
   "source": [
    "#删除\n",
    "a = list(range(10))\n",
    "print(a)\n",
    "del a[0] #删除指定索引数据\n",
    "print(a)\n",
    "#del a[len(a)] #同样，索引溢出会报错\n",
    "b = a.pop() #根据索引移除数据,返回移除的数据,默认参数index=-1\n",
    "print(a,b)\n",
    "a.pop(0) #移除第一个\n",
    "print(a)\n",
    "#a.pop(len(a)) #同样，索引溢出会报错\n",
    "a[0:1] = [] #删除第一个数据\n",
    "print(a)\n",
    "a.insert(2,8)\n",
    "print(a)\n",
    "a.remove(8) #删除指定数值的元素，若有多个则删除第一个匹配选项\n",
    "print(a)\n",
    "#a.remove('ddl') #找不到会报错\n",
    "a.clear() #清空列表 或使用 切片 a[:] = []\n",
    "print(a)\n",
    "a = None\n",
    "print(a) #None也是一种对象\n",
    "del a #会删除a对象，之后再使用a会报错\n",
    "#print(a) #找不到a对象，会报错"
   ]
  }
 ],
 "metadata": {
  "kernelspec": {
   "display_name": "Python 3",
   "language": "python",
   "name": "python3"
  },
  "language_info": {
   "codemirror_mode": {
    "name": "ipython",
    "version": 3
   },
   "file_extension": ".py",
   "mimetype": "text/x-python",
   "name": "python",
   "nbconvert_exporter": "python",
   "pygments_lexer": "ipython3",
   "version": "3.7.0"
  }
 },
 "nbformat": 4,
 "nbformat_minor": 2
}
