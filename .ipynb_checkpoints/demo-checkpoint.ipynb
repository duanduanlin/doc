{
 "cells": [
  {
   "cell_type": "markdown",
   "metadata": {},
   "source": [
    "# demo\n",
    "- 九九乘法表\n",
    "\n",
    "## 九九乘法表"
   ]
  },
  {
   "cell_type": "code",
   "execution_count": 6,
   "metadata": {},
   "outputs": [
    {
     "name": "stdout",
     "output_type": "stream",
     "text": [
      "1 \n",
      "2 4 \n",
      "3 6 9 \n",
      "4 8 12 16 \n",
      "5 10 15 20 25 \n",
      "6 12 18 24 30 36 \n",
      "7 14 21 28 35 42 49 \n",
      "8 16 24 32 40 48 56 64 \n",
      "9 18 27 36 45 54 63 72 81 \n"
     ]
    }
   ],
   "source": [
    "#1.1左对齐九九乘法表 \n",
    "for i in range(1,10):\n",
    "    for j in range(1,i+1):\n",
    "        print(\"{0}\".format(i*j),end=' ')\n",
    "    print()"
   ]
  },
  {
   "cell_type": "code",
   "execution_count": 19,
   "metadata": {},
   "outputs": [
    {
     "name": "stdout",
     "output_type": "stream",
     "text": [
      " 1 \n",
      " 2  4 \n",
      " 3  6  9 \n",
      " 4  8 12 16 \n",
      " 5 10 15 20 25 \n",
      " 6 12 18 24 30 36 \n",
      " 7 14 21 28 35 42 49 \n",
      " 8 16 24 32 40 48 56 64 \n",
      " 9 18 27 36 45 54 63 72 81 \n"
     ]
    }
   ],
   "source": [
    "#1.2左对齐九九乘法表-1plus \n",
    "for i in range(1,10):\n",
    "    for j in range(1,i+1):\n",
    "        print(\"{0:2}\".format(i*j),end=' ')\n",
    "    print()"
   ]
  },
  {
   "cell_type": "code",
   "execution_count": 18,
   "metadata": {},
   "outputs": [
    {
     "name": "stdout",
     "output_type": "stream",
     "text": [
      "                         1 \n",
      "                      2  4 \n",
      "                   3  6  9 \n",
      "                4  8 12 16 \n",
      "             5 10 15 20 25 \n",
      "          6 12 18 24 30 36 \n",
      "       7 14 21 28 35 42 49 \n",
      "    8 16 24 32 40 48 56 64 \n",
      " 9 18 27 36 45 54 63 72 81 \n"
     ]
    }
   ],
   "source": [
    "#1.3右对齐九九乘法表 \n",
    "for i in range(1,10):\n",
    "    line = ''\n",
    "    for j in range(1,i+1):\n",
    "        line += \"{0:2} \".format(i*j)\n",
    "    print('{line:>27}'.format(line=line))"
   ]
  },
  {
   "cell_type": "code",
   "execution_count": 20,
   "metadata": {},
   "outputs": [
    {
     "name": "stdout",
     "output_type": "stream",
     "text": [
      " 1                         \n",
      " 2  4                      \n",
      " 3  6  9                   \n",
      " 4  8 12 16                \n",
      " 5 10 15 20 25             \n",
      " 6 12 18 24 30 36          \n",
      " 7 14 21 28 35 42 49       \n",
      " 8 16 24 32 40 48 56 64    \n",
      " 9 18 27 36 45 54 63 72 81 \n"
     ]
    }
   ],
   "source": [
    "#1.4左对齐九九乘法表-2plus\n",
    "for i in range(1,10):\n",
    "    line = ''\n",
    "    for j in range(1,i+1):\n",
    "        line += \"{0:2} \".format(i*j)\n",
    "    print('{line:<27}'.format(line=line))"
   ]
  },
  {
   "cell_type": "code",
   "execution_count": 21,
   "metadata": {},
   "outputs": [
    {
     "name": "stdout",
     "output_type": "stream",
     "text": [
      "             1             \n",
      "           2  4            \n",
      "          3  6  9          \n",
      "        4  8 12 16         \n",
      "       5 10 15 20 25       \n",
      "     6 12 18 24 30 36      \n",
      "    7 14 21 28 35 42 49    \n",
      "  8 16 24 32 40 48 56 64   \n",
      " 9 18 27 36 45 54 63 72 81 \n"
     ]
    }
   ],
   "source": [
    "#1.5中对齐九九乘法表\n",
    "for i in range(1,10):\n",
    "    line = ''\n",
    "    for j in range(1,i+1):\n",
    "        line += \"{0:2} \".format(i*j)\n",
    "    print('{line:^27}'.format(line=line))"
   ]
  },
  {
   "cell_type": "code",
   "execution_count": 35,
   "metadata": {},
   "outputs": [
    {
     "name": "stdout",
     "output_type": "stream",
     "text": [
      "                           1 \n",
      "                        2  4 \n",
      "                     3  6  9 \n",
      "                  4  8 12 16 \n",
      "               5 10 15 20 25 \n",
      "            6 12 18 24 30 36 \n",
      "         7 14 21 28 35 42 49 \n",
      "      8 16 24 32 40 48 56 64 \n",
      "   9 18 27 36 45 54 63 72 81 \n",
      "\n",
      " 1                           \n",
      " 2  4                        \n",
      " 3  6  9                     \n",
      " 4  8 12 16                  \n",
      " 5 10 15 20 25               \n",
      " 6 12 18 24 30 36            \n",
      " 7 14 21 28 35 42 49         \n",
      " 8 16 24 32 40 48 56 64      \n",
      " 9 18 27 36 45 54 63 72 81   \n",
      "\n",
      "              1              \n",
      "            2  4             \n",
      "           3  6  9           \n",
      "         4  8 12 16          \n",
      "        5 10 15 20 25        \n",
      "      6 12 18 24 30 36       \n",
      "     7 14 21 28 35 42 49     \n",
      "   8 16 24 32 40 48 56 64    \n",
      "  9 18 27 36 45 54 63 72 81  \n",
      "\n",
      " 1                           \n",
      " 2  4                        \n",
      " 3  6  9                     \n",
      " 4  8 12 16                  \n",
      " 5 10 15 20 25               \n",
      " 6 12 18 24 30 36            \n",
      " 7 14 21 28 35 42 49         \n",
      " 8 16 24 32 40 48 56 64      \n",
      " 9 18 27 36 45 54 63 72 81   \n",
      "\n",
      " 1                           \n",
      " 2  4                        \n",
      " 3  6  9                     \n",
      " 4  8 12 16                  \n",
      " 5 10 15 20 25               \n",
      " 6 12 18 24 30 36            \n",
      " 7 14 21 28 35 42 49         \n",
      " 8 16 24 32 40 48 56 64      \n",
      " 9 18 27 36 45 54 63 72 81   \n",
      "\n",
      " 1 **************************\n",
      " 2  4 ***********************\n",
      " 3  6  9 ********************\n",
      " 4  8 12 16 *****************\n",
      " 5 10 15 20 25 **************\n",
      " 6 12 18 24 30 36 ***********\n",
      " 7 14 21 28 35 42 49 ********\n",
      " 8 16 24 32 40 48 56 64 *****\n",
      " 9 18 27 36 45 54 63 72 81 **\n",
      "\n",
      "************* 1 *************\n",
      "*********** 2  4 ************\n",
      "********** 3  6  9 **********\n",
      "******** 4  8 12 16 *********\n",
      "******* 5 10 15 20 25 *******\n",
      "***** 6 12 18 24 30 36 ******\n",
      "**** 7 14 21 28 35 42 49 ****\n",
      "** 8 16 24 32 40 48 56 64 ***\n",
      "* 9 18 27 36 45 54 63 72 81 *\n",
      "\n",
      "00000000000000000000000000 1 \n",
      "00000000000000000000000 2  4 \n",
      "00000000000000000000 3  6  9 \n",
      "00000000000000000 4  8 12 16 \n",
      "00000000000000 5 10 15 20 25 \n",
      "00000000000 6 12 18 24 30 36 \n",
      "00000000 7 14 21 28 35 42 49 \n",
      "00000 8 16 24 32 40 48 56 64 \n",
      "00 9 18 27 36 45 54 63 72 81 \n",
      "\n"
     ]
    }
   ],
   "source": [
    "#1.6超级九九乘法表\n",
    "def super_9_9(aline='<',fill=' '):\n",
    "    result = ''\n",
    "    if aline != '>' and aline != '<' and aline != '^':\n",
    "        aline = '<'\n",
    "    for i in range(1,10):\n",
    "        line = ''\n",
    "        for j in range(1,i+1):\n",
    "            line += \"{0:2} \".format(i*j)\n",
    "        result += '{line:{}{}29}\\n'.format(fill,aline,line=line)\n",
    "    return result\n",
    "    \n",
    "print(super_9_9('>')) \n",
    "print(super_9_9('<')) \n",
    "print(super_9_9('^')) \n",
    "print(super_9_9(1))\n",
    "print(super_9_9())\n",
    "print(super_9_9(fill='*'))\n",
    "print(super_9_9('^',fill='*'))\n",
    "print(super_9_9('>',fill=0))"
   ]
  },
  {
   "cell_type": "markdown",
   "metadata": {},
   "source": [
    "## 求斐波那契数列\n",
    "-  规则：\n",
    "    - 第一个数是1\n",
    "    - 第二个数也是1\n",
    "    - 之后每个数是前两个数之和"
   ]
  },
  {
   "cell_type": "code",
   "execution_count": 2,
   "metadata": {},
   "outputs": [
    {
     "name": "stdout",
     "output_type": "stream",
     "text": [
      "1\n",
      "1\n",
      "5\n",
      "55\n"
     ]
    }
   ],
   "source": [
    "#2.求斐波那契数列\n",
    "def fib(n):\n",
    "    if n == 1:\n",
    "        return 1\n",
    "    if n == 2:\n",
    "        return 1\n",
    "    \n",
    "    return fib(n-1)+fib(n -2)\n",
    "\n",
    "print(fib(1))\n",
    "print(fib(2))\n",
    "print(fib(5))\n",
    "print(fib(10))\n"
   ]
  },
  {
   "cell_type": "markdown",
   "metadata": {},
   "source": [
    "## 汉诺塔\n",
    "- 规则：\n",
    "    - 每次只取一个盘\n",
    "    - 任何时候小盘在上"
   ]
  },
  {
   "cell_type": "code",
   "execution_count": null,
   "metadata": {},
   "outputs": [],
   "source": [
    "#3.汉诺塔      "
   ]
  }
 ],
 "metadata": {
  "kernelspec": {
   "display_name": "Python 3",
   "language": "python",
   "name": "python3"
  },
  "language_info": {
   "codemirror_mode": {
    "name": "ipython",
    "version": 3
   },
   "file_extension": ".py",
   "mimetype": "text/x-python",
   "name": "python",
   "nbconvert_exporter": "python",
   "pygments_lexer": "ipython3",
   "version": "3.7.0"
  }
 },
 "nbformat": 4,
 "nbformat_minor": 2
}
